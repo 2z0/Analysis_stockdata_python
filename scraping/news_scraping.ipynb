{
 "cells": [
  {
   "cell_type": "code",
   "execution_count": 43,
   "id": "expanded-works",
   "metadata": {},
   "outputs": [
    {
     "name": "stdout",
     "output_type": "stream",
     "text": [
      "      2021-05-27 1    두산중공업 대한항공 미래산업 토니모리 에이블씨엔씨 한국화장품제조 롯데정보통신 코스맥스비티아이 TBH글로벌  HMM 현대건설 한신기계 강원랜드 SK네트웍스 KT 하나투어 LS네트웍스 천일고속 두산 비상교육 애경산업 카카오 SK이노베이션 현대건설 녹십자 OCI 삼성카드 롯데지주 강원랜드 한국가스공사 KT&G 포스코케미칼 대우건설 한화 포스코케미칼 두산퓨얼셀 티와이홀딩스 농심 동양고속 유니온머티리얼 SNT에너지 오리온 한솔케미칼 휴니드 이엔플러스 이노션  천일고속 이연제약  SK이노베이션 기아 티와이홀딩스 현대로템 동양고속 SNT에너지 SG세계물산 일진전기 백광산업  한신기계 이아이디 한화 한국가스공사 삼성전기 티와이홀딩스 농심 천일고속 애경산업 우리종금 동양고속 효성첨단소재 현대건설 한화 금호석유 GS건설 CJ제일제당 농심 천일고속 GS글로벌 두산밥캣 한국금융지주 삼성증권 지누스 하이브 대한항공 현대건설 현대해상 SK텔레콤 셀트리온 한화 신한지주 삼성카드 롯데지주 대덕 KT&G 현대건설 현대해상 OCI 삼성카드 대우건설 GS건설 삼성화재 휠라홀딩스 한미약품 SK아이이테크놀로지 천일고속 롯데쇼핑 SK이노베이션 현대건설 삼성카드 대우건설 GS건설 SK바이오팜 삼성제약 휠라홀딩스 한미약품 삼성에스디에스 한미반도체 천일고속                                                                                                                                                                                                                                                                                                                      SK          전체뉴스    증시요약(9) - 기술적 분 21-05-27\n",
      "                             증시요약(8) - 기술적 분 21-05-27\n",
      "                             - 증시요약(7) - 기술적 분  증시요약(6) - 특징 상한 21-05-27\n",
      "\t\t 증시요약(5) - 특징 21-05-27\n",
      "\t\t                                    \n"
     ]
    }
   ],
   "source": [
    "import urllib.request as req\n",
    "from bs4 import BeautifulSoup\n",
    "\n",
    "url = \"https://vip.mk.co.kr/newSt/news/news_view.php?p_page=&sCode=122&t_uid=22&c_uid=271752&topGubun=\"\n",
    "res = req.urlopen(url)\n",
    "\n",
    "soup=BeautifulSoup(res,\"html.parser\")\n",
    "\n",
    "li = soup.find_all(\"td\")\n",
    "\n",
    "text = []\n",
    "for a in li:\n",
    "    text.append(a.string)          #string은 text부분 추출하는 것\n",
    "\n",
    "for i in range(len(text)):\n",
    "    text[i] = str(text[i])[:-8]\n",
    "h=' '.join(text)\n",
    "print(h)"
   ]
  }
 ],
 "metadata": {
  "kernelspec": {
   "display_name": "Python 3",
   "language": "python",
   "name": "python3"
  },
  "language_info": {
   "codemirror_mode": {
    "name": "ipython",
    "version": 3
   },
   "file_extension": ".py",
   "mimetype": "text/x-python",
   "name": "python",
   "nbconvert_exporter": "python",
   "pygments_lexer": "ipython3",
   "version": "3.7.6"
  }
 },
 "nbformat": 4,
 "nbformat_minor": 5
}
