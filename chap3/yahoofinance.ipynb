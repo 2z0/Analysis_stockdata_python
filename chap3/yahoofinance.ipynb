{
 "cells": [
  {
   "cell_type": "code",
   "execution_count": 4,
   "id": "round-flower",
   "metadata": {},
   "outputs": [
    {
     "name": "stdout",
     "output_type": "stream",
     "text": [
      "Requirement already satisfied: yfinance in c:\\users\\chong\\anaconda3\\lib\\site-packages (0.1.55)\n",
      "Requirement already satisfied: numpy>=1.15 in c:\\users\\chong\\anaconda3\\lib\\site-packages (from yfinance) (1.19.2)\n",
      "Requirement already satisfied: lxml>=4.5.1 in c:\\users\\chong\\anaconda3\\lib\\site-packages (from yfinance) (4.6.2)\n",
      "Requirement already satisfied: pandas>=0.24 in c:\\users\\chong\\anaconda3\\lib\\site-packages (from yfinance) (1.2.1)\n",
      "Requirement already satisfied: requests>=2.20 in c:\\users\\chong\\anaconda3\\lib\\site-packages (from yfinance) (2.25.1)\n",
      "Requirement already satisfied: multitasking>=0.0.7 in c:\\users\\chong\\anaconda3\\lib\\site-packages (from yfinance) (0.0.9)\n",
      "Requirement already satisfied: pytz>=2017.3 in c:\\users\\chong\\anaconda3\\lib\\site-packages (from pandas>=0.24->yfinance) (2021.1)\n",
      "Requirement already satisfied: python-dateutil>=2.7.3 in c:\\users\\chong\\anaconda3\\lib\\site-packages (from pandas>=0.24->yfinance) (2.8.1)\n",
      "Requirement already satisfied: six>=1.5 in c:\\users\\chong\\anaconda3\\lib\\site-packages (from python-dateutil>=2.7.3->pandas>=0.24->yfinance) (1.15.0)\n",
      "Requirement already satisfied: chardet<5,>=3.0.2 in c:\\users\\chong\\anaconda3\\lib\\site-packages (from requests>=2.20->yfinance) (4.0.0)\n",
      "Requirement already satisfied: certifi>=2017.4.17 in c:\\users\\chong\\anaconda3\\lib\\site-packages (from requests>=2.20->yfinance) (2020.12.5)\n",
      "Requirement already satisfied: idna<3,>=2.5 in c:\\users\\chong\\anaconda3\\lib\\site-packages (from requests>=2.20->yfinance) (2.10)\n",
      "Requirement already satisfied: urllib3<1.27,>=1.21.1 in c:\\users\\chong\\anaconda3\\lib\\site-packages (from requests>=2.20->yfinance) (1.26.3)\n",
      "Requirement already satisfied: pandas-datareader in c:\\users\\chong\\anaconda3\\lib\\site-packages (0.9.0)\n",
      "Requirement already satisfied: requests>=2.19.0 in c:\\users\\chong\\anaconda3\\lib\\site-packages (from pandas-datareader) (2.25.1)\n",
      "Requirement already satisfied: pandas>=0.23 in c:\\users\\chong\\anaconda3\\lib\\site-packages (from pandas-datareader) (1.2.1)\n",
      "Requirement already satisfied: lxml in c:\\users\\chong\\anaconda3\\lib\\site-packages (from pandas-datareader) (4.6.2)\n",
      "Requirement already satisfied: python-dateutil>=2.7.3 in c:\\users\\chong\\anaconda3\\lib\\site-packages (from pandas>=0.23->pandas-datareader) (2.8.1)\n",
      "Requirement already satisfied: pytz>=2017.3 in c:\\users\\chong\\anaconda3\\lib\\site-packages (from pandas>=0.23->pandas-datareader) (2021.1)\n",
      "Requirement already satisfied: numpy>=1.16.5 in c:\\users\\chong\\anaconda3\\lib\\site-packages (from pandas>=0.23->pandas-datareader) (1.19.2)\n",
      "Requirement already satisfied: six>=1.5 in c:\\users\\chong\\anaconda3\\lib\\site-packages (from python-dateutil>=2.7.3->pandas>=0.23->pandas-datareader) (1.15.0)\n",
      "Requirement already satisfied: urllib3<1.27,>=1.21.1 in c:\\users\\chong\\anaconda3\\lib\\site-packages (from requests>=2.19.0->pandas-datareader) (1.26.3)\n",
      "Requirement already satisfied: certifi>=2017.4.17 in c:\\users\\chong\\anaconda3\\lib\\site-packages (from requests>=2.19.0->pandas-datareader) (2020.12.5)\n",
      "Requirement already satisfied: idna<3,>=2.5 in c:\\users\\chong\\anaconda3\\lib\\site-packages (from requests>=2.19.0->pandas-datareader) (2.10)\n",
      "Requirement already satisfied: chardet<5,>=3.0.2 in c:\\users\\chong\\anaconda3\\lib\\site-packages (from requests>=2.19.0->pandas-datareader) (4.0.0)\n"
     ]
    }
   ],
   "source": [
    "#야후 파이낸스, 판다스데이터리더 라이브러리 설치\n",
    "!pip install yfinance\n",
    "! pip install pandas-datareader"
   ]
  },
  {
   "cell_type": "code",
   "execution_count": 5,
   "id": "industrial-clerk",
   "metadata": {},
   "outputs": [
    {
     "name": "stdout",
     "output_type": "stream",
     "text": [
      "[*********************100%***********************]  1 of 1 completed\n",
      "[*********************100%***********************]  1 of 1 completed\n",
      "               Open     High      Low    Close     Adj Close    Volume\n",
      "Date                                                                  \n",
      "2020-03-04  54800.0  57600.0  54600.0  57400.0  54873.816406  24765728\n",
      "2020-03-05  57600.0  58000.0  56700.0  57800.0  55256.210938  21698990\n",
      "2020-03-06  56500.0  57200.0  56200.0  56500.0  54013.425781  18716656\n",
      "2020-03-09  56500.0  56500.0  56500.0  56500.0  54013.425781         0\n",
      "2020-03-10  53800.0  54900.0  53700.0  54600.0  52197.046875  32106554\n",
      "2020-03-11  54300.0  54400.0  52000.0  52100.0  49807.070312  45707281\n",
      "2020-03-12  52100.0  52100.0  52100.0  52100.0  49807.070312         0\n",
      "2020-03-13  47450.0  51600.0  46850.0  49950.0  47751.691406  59462933\n",
      "2020-03-16  50100.0  50900.0  48800.0  48900.0  46747.902344  33339821\n",
      "2020-03-17  46900.0  49650.0  46700.0  47300.0  45218.320312  51218151\n"
     ]
    }
   ],
   "source": [
    "import pandas as pd\n",
    "import yfinance as yf\n",
    "from pandas_datareader import data as pdr\n",
    "yf.pdr_override()\n",
    "\n",
    "sec = pdr.get_data_yahoo('005930.KS',start='2020-03-04')\n",
    "msft = pdr.get_data_yahoo('MSFT',start='2020-03-04')\n",
    "\n",
    "print(sec.head(10))"
   ]
  },
  {
   "cell_type": "code",
   "execution_count": 8,
   "id": "deluxe-knock",
   "metadata": {},
   "outputs": [
    {
     "name": "stdout",
     "output_type": "stream",
     "text": [
      "[*********************100%***********************]  1 of 1 completed\n",
      "[*********************100%***********************]  1 of 1 completed\n"
     ]
    },
    {
     "data": {
      "image/png": "[encoded data removed]",
      "text/plain": [
       "<Figure size 432x288 with 1 Axes>"
      ]
     },
     "metadata": {
      "needs_background": "light"
     },
     "output_type": "display_data"
    }
   ],
   "source": [
    "import pandas as pd\n",
    "from pandas_datareader import data as pdr\n",
    "import yfinance as yf\n",
    "yf.pdr_override()\n",
    " \n",
    "sec = pdr.get_data_yahoo('005930.KS',start='2020-03-04')\n",
    "msft = pdr.get_data_yahoo('MSFT',start='2020-03-04')\n",
    "\n",
    "import matplotlib.pyplot as plt\n",
    "plt.plot(sec.index, sec.Close, 'b',label='Samsung Electronics')\n",
    "plt.plot(msft.index, msft.Close,'r--',label='Microsoft')\n",
    "plt.legend(loc='best')\n",
    "plt.show()"
   ]
  },
  {
   "cell_type": "markdown",
   "id": "structured-hampshire",
   "metadata": {},
   "source": [
    "삼전 (5-80000원 대)과 마소 ($130) 주가 수치 차이가 커서 0에 가까운 직선처럼 표시\n",
    "\n",
    "->일간 변동률을 통한 비교 필요"
   ]
  }
 ],
 "metadata": {
  "kernelspec": {
   "display_name": "Python 3",
   "language": "python",
   "name": "python3"
  },
  "language_info": {
   "codemirror_mode": {
    "name": "ipython",
    "version": 3
   },
   "file_extension": ".py",
   "mimetype": "text/x-python",
   "name": "python",
   "nbconvert_exporter": "python",
   "pygments_lexer": "ipython3",
   "version": "3.7.6"
  }
 },
 "nbformat": 4,
 "nbformat_minor": 5
}
